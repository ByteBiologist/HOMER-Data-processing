{
 "cells": [
  {
   "cell_type": "code",
   "execution_count": 9,
   "id": "8b112fe7",
   "metadata": {},
   "outputs": [],
   "source": [
    "import gzip\n",
    "import subprocess\n",
    "import os\n",
    "import concurrent.futures\n",
    "import sys"
   ]
  },
  {
   "cell_type": "code",
   "execution_count": 10,
   "id": "fc9db816",
   "metadata": {},
   "outputs": [],
   "source": [
    "genome_build = \"hg19\""
   ]
  },
  {
   "cell_type": "code",
   "execution_count": 11,
   "id": "a61f3213",
   "metadata": {},
   "outputs": [],
   "source": [
    "def get_reference(genome_build, sequenceID):\n",
    "    if genome_build == \"hg19\":\n",
    "        fa = \"hg19.fa\"\n",
    "    elif genome_build == \"hg38\":\n",
    "        fa = \"hg38.fa\"\n",
    "    else:\n",
    "        raise ValueError(\"Invalid genome build specified\")\n",
    "\n",
    "    output = subprocess.check_output([\"samtools\", \"faidx\", fa, sequenceID]).decode(\"utf-8\")\n",
    "    lines = output.split('\\n')\n",
    "    ref_sequence = ''.join(lines[1:])\n",
    "    ref_sequence = ref_sequence.lower() # Convert to lowercase\n",
    "    return ref_sequence"
   ]
  },
  {
   "cell_type": "code",
   "execution_count": 12,
   "id": "9b79856d",
   "metadata": {},
   "outputs": [],
   "source": [
    "def get_cellandmotif(name, length, column_mapping):\n",
    "    key_with_length = (name, length)  # Create the key using name and length\n",
    "\n",
    "    if key_with_length in column_mapping:\n",
    "        key = key_with_length\n",
    "    else:\n",
    "        key = (name, None)  # Create a key without length to prioritize name match\n",
    "\n",
    "    if key in column_mapping:\n",
    "        motif_id = column_mapping[key][0]\n",
    "        cell_type = column_mapping[key][1]\n",
    "        DNA_binding = column_mapping[key][2]\n",
    "        consensus_length = column_mapping[key][3]\n",
    "    else:\n",
    "        motif_id = \".\"\n",
    "        cell_type = \".\"\n",
    "        DNA_binding = \".\"\n",
    "        consensus_length = \".\"\n",
    "\n",
    "    return motif_id, cell_type, DNA_binding, consensus_length"
   ]
  },
  {
   "cell_type": "code",
   "execution_count": 13,
   "id": "311e0ed1",
   "metadata": {},
   "outputs": [],
   "source": [
    "def get_reverse_complement(sequence):\n",
    "    complement = {'a': 't', 'c': 'g', 'g': 'c', 't': 'a'}\n",
    "    reverse_complement = ''\n",
    "    sequence = sequence.lower()  # Convert to lowercase\n",
    "    for base in reversed(sequence):\n",
    "        if base in complement:\n",
    "            reverse_complement += complement[base]\n",
    "        else:\n",
    "            reverse_complement += base\n",
    "    return reverse_complement"
   ]
  },
  {
   "cell_type": "code",
   "execution_count": 14,
   "id": "9dfc2d40",
   "metadata": {},
   "outputs": [
    {
     "name": "stdout",
     "output_type": "stream",
     "text": [
      "tgtgtaaata\n"
     ]
    }
   ],
   "source": [
    "print(get_reverse_complement(\"TATTTACACA\"))"
   ]
  },
  {
   "cell_type": "code",
   "execution_count": 15,
   "id": "a27ea48d",
   "metadata": {},
   "outputs": [],
   "source": [
    "# Load the data dictionary from parsed_subheadings.txt\n",
    "column_mapping = {}\n",
    "\n",
    "with open(\"parsed_subheadings.txt\", \"r\") as parsed_file:\n",
    "    next(parsed_file)  # Skip the header line\n",
    "    for line in parsed_file:\n",
    "        columns = line.strip().split(\"\\t\")\n",
    "        # Extract the keys (columns[1] and columns[12]) and value (columns 0 and 4) from the current line\n",
    "        key = (columns[1], columns[10])\n",
    "        value = [columns[0], columns[4], columns[3], columns[9]]\n",
    "        # Add the key-value pair to the dictionary\n",
    "        column_mapping[key] = value"
   ]
  },
  {
   "cell_type": "code",
   "execution_count": 16,
   "id": "54e55e6b",
   "metadata": {},
   "outputs": [
    {
     "name": "stdout",
     "output_type": "stream",
     "text": [
      "433\n"
     ]
    }
   ],
   "source": [
    "print (len(column_mapping))"
   ]
  },
  {
   "cell_type": "code",
   "execution_count": 30,
   "id": "f95b37a8",
   "metadata": {},
   "outputs": [],
   "source": [
    "# Specify the paths for input and intermediate files\n",
    "bed_file_path = \"/mnt/ebs/jackal/FILER2/FILER2-production/Homer/Downloads/motif/split_by_motifName/hg19/RAR:RXR(NR),DR5.bed.gz\" \n",
    "\n",
    "output_file_path = \"hg19.output.bed\""
   ]
  },
  {
   "cell_type": "code",
   "execution_count": 51,
   "id": "fa984506",
   "metadata": {},
   "outputs": [],
   "source": [
    "# Open the output file for writing\n",
    "#with open(output_file_path, \"w\", encoding=\"utf-8\") as output_file:\n",
    "    # output_file.write(\"#chrom\\tchromStart\\tchromEnd\\tname\\tscore\\tstrand\\tmotif_length\\tmotifID\\tDNA_binding_domain\\tcell_type\\tbinding_sequence\\tconsensus_length\\treverse_strand\\n\")\n",
    "    #output_file.write(\"#chrom\\tchromStart\\tchromEnd\\tname\\tscore\\tstrand\\tmotifID\\tDNA_binding_domain\\tcell_type\\tbinding_sequence\\tconsensus_sequence\\n\")\n",
    "    # Open the bed file and process lines on-the-fly\n",
    "    #with gzip.open(bed_file_path, \"rt\", encoding=\"utf-8\") as bed_file:\n",
    "with gzip.open(bed_file_path, \"rt\", encoding=\"utf-8\") as bed_file:\n",
    "    for line in bed_file:\n",
    "        if line.startswith(\"#\"):  # Skip comment lines\n",
    "            continue\n",
    "\n",
    "        columns = line.strip().split(\"\\t\")\n",
    "        motif_name = columns[3]  # Extract motif name\n",
    "\n",
    "        start = int(columns[1])\n",
    "        end = int(columns[2])\n",
    "        motif_length = end - start + 1  # Calculate motif_length, 1-based coordinate system\n",
    "        strand = columns[5]\n",
    "        sequenceID = f\"{columns[0]}:{columns[1]}-{columns[2]}\"\n",
    "\n",
    "        key = (columns[3], str(motif_length))\n",
    "\n",
    "        if key in column_mapping:\n",
    "            consensus_sequence = column_mapping[key][3]\n",
    "            if motif_length != len(consensus_sequence):\n",
    "                print(motif_length, \"!=\", consensus_sequence)\n",
    "                # Skip this line as motif_length doesn't match consensus_sequence length\n",
    "                continue\n",
    "\n",
    "            motif_id, cell_type, DNA_binding, consensus_sequence = get_cellandmotif(columns[3], str(motif_length), column_mapping)\n",
    "\n",
    "            if strand == '+':\n",
    "                binding_sequence = get_reference(genome_build, sequenceID)\n",
    "            elif strand == '-':\n",
    "                ref_sequence = get_reference(genome_build, sequenceID)\n",
    "                binding_sequence = get_reverse_complement(ref_sequence)\n",
    "\n",
    "            #output_line = \"\\t\".join([columns[0], str(int(columns[1]) - 1), columns[2], columns[3], columns[4], columns[5]] + [ motif_id, DNA_binding, cell_type, binding_sequence, consensus_sequence])\n",
    "            #output_file.write(output_line + \"\\n\")\n",
    "\n",
    "# Compress the output file using bgzip\n",
    "#subprocess.run([\"bgzip\", output_file_path])\n",
    "\n",
    "#print(f\"Output written to {output_file_path}\")\n",
    "\n",
    "#print(\"Output compressed to\", output_file_path + \".gz\")"
   ]
  },
  {
   "cell_type": "code",
   "execution_count": 52,
   "id": "6c1d596d",
   "metadata": {},
   "outputs": [
    {
     "name": "stdout",
     "output_type": "stream",
     "text": [
      "['chrY', '59359386', '59359397', 'RAR:RXR(NR),DR5', '10', '-']\n"
     ]
    }
   ],
   "source": [
    "print (columns)"
   ]
  },
  {
   "cell_type": "code",
   "execution_count": null,
   "id": "59530274",
   "metadata": {},
   "outputs": [],
   "source": []
  }
 ],
 "metadata": {
  "kernelspec": {
   "display_name": "Python 3",
   "language": "python",
   "name": "python3"
  },
  "language_info": {
   "codemirror_mode": {
    "name": "ipython",
    "version": 3
   },
   "file_extension": ".py",
   "mimetype": "text/x-python",
   "name": "python",
   "nbconvert_exporter": "python",
   "pygments_lexer": "ipython3",
   "version": "3.6.8"
  }
 },
 "nbformat": 4,
 "nbformat_minor": 5
}
